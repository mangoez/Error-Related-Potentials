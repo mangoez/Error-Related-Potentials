{
 "cells": [
  {
   "cell_type": "code",
   "execution_count": 1,
   "id": "a5268b4e",
   "metadata": {},
   "outputs": [],
   "source": [
    "import scipy.io\n",
    "import numpy as np\n",
    "from statistics import mean\n",
    "from statistics import variance\n",
    "from scipy.io import loadmat\n",
    "import pandas as pd\n",
    "import matplotlib.pyplot as plt"
   ]
  },
  {
   "cell_type": "code",
   "execution_count": 2,
   "id": "f8ab4ab8",
   "metadata": {},
   "outputs": [],
   "source": [
    "y = [0, 0, 0, 1, 0, 0, 1, 0, 0, 0, 0, 0, 0, 0, 0, 0, 0, 0, 1, 0, 0, 0, 0, 0, 1,\n",
    "     1, 1, 1, 0, 0, 1, 0, 1, 1, 0, 0, 0, 0, 0, 0, 0, 0, 0, 0, 0, 0, 0, 0, 0, 0,\n",
    "     0, 0, 1, 1, 0, 0, 1, 1, 0, 0, 0, 0, 0, 0, 0, 0, 0, 1, 0, 0, 0, 0, 1, 0, 0,\n",
    "     0, 0, 0, 0, 1, 0, 0, 1, 0, 1, 0, 0, 1, 0, 0, 0, 0, 0, 0, 0, 0, 0, 0, 0, 0,\n",
    "     0, 0, 0, 1, 0, 1, 0, 1, 0, 1, 0, 0, 0, 0, 1, 0, 0, 1, 0, 0, 0, 0, 0, 0, 1,\n",
    "     1, 0, 0, 0, 0, 0, 0, 0, 0, 0, 0, 1, 0, 0, 1, 0, 1, 0, 0, 0, 1, 0, 0, 0, 1,\n",
    "     0, 0, 0, 0, 0, 0, 1, 0, 0, 0, 0, 0, 0, 0, 1, 1, 0, 0, 0, 1, 0, 0, 0, 0, 1,\n",
    "     0, 1, 1, 0, 1, 0, 0, 0, 0, 0, 0, 0, 0, 0, 0, 0, 0, 0, 1, 0, 0, 0, 0, 0, 0]\n"
   ]
  },
  {
   "cell_type": "code",
   "execution_count": 3,
   "id": "0a872c4d",
   "metadata": {},
   "outputs": [],
   "source": [
    "def mat2arr(addr, output_name):\n",
    "    mat = scipy.io.loadmat(addr + '.mat')\n",
    "    trigger_data = np.array(mat[output_name][0][0][1][0][0][0])\n",
    "    trigger_data = trigger_data\n",
    "    trigger_data = sum(trigger_data)[0]\n",
    "    return trigger_data\n",
    "\n",
    "\n",
    "UDP_changes = mat2arr('trigger', 'Trigger')"
   ]
  },
  {
   "cell_type": "code",
   "execution_count": 8,
   "id": "f5acab4b",
   "metadata": {},
   "outputs": [
    {
     "name": "stdout",
     "output_type": "stream",
     "text": [
      "200\n"
     ]
    }
   ],
   "source": [
    "# Count the number of events it received\n",
    "n_events = int(sum(UDP_changes)/49)\n",
    "print(n_events)"
   ]
  },
  {
   "cell_type": "code",
   "execution_count": 10,
   "id": "0522e5b7",
   "metadata": {},
   "outputs": [
    {
     "name": "stdout",
     "output_type": "stream",
     "text": [
      "------------------------------\n",
      "Total trials:  200\n",
      "------------------------------\n",
      "Deviations:  [-1, -1, -1, -1, -1, -1, -1, -1, -1, -1, 63, -1, -1, -1, -1, -1, -1, 63, -1, -1, -1, -1, -1, 43, -1, -1, -1, -1, -1, -1, 63, -1, -1, -1, -1, -1, -1, 54, -1, -1, -1, -1, -1, -1, 62, -1, -1, -1, -1, -1, -1, -1, -1, -1, -1, -1, -1, -1, -1, 63, -1, -1, -1, -1, -1, -1, -1, -1, -1, -1, -1, -1, -1, -1, -1, -1, -1, -1, -1, -1, 59, -1, -1, -1, -1, -1, -1, -1, -1, -1, -1, -1, -1, -1, -1, -1, -1, -1, -1, -1]\n",
      "------------------------------\n",
      "Total deviation (sec):  0.315 s\n",
      "Max deviation (sec):  0.0525 s\n",
      "Min deviation (sec):  -0.00083 s\n",
      "------------------------------\n",
      "Total deviation (samples):  378\n",
      "Max deviation (samples):  63\n",
      "Min deviation (samples):  -1\n",
      "------------------------------\n"
     ]
    }
   ],
   "source": [
    "# Find the times between trials\n",
    "def spacing_sec(data, fs, spacing_truth_s):\n",
    "    spacing = []\n",
    "    spacing_sec = []\n",
    "    deviations = []\n",
    "    cnt = 0\n",
    "    on = False\n",
    "    n_trials = 0\n",
    "\n",
    "    for i in data:\n",
    "        if (i): \n",
    "            n_trials += 1\n",
    "        if (i and not on):\n",
    "            on = True\n",
    "        elif (not i and on):\n",
    "            cnt += 1\n",
    "        elif (i and on):\n",
    "            spacing.append(cnt)\n",
    "            cnt = 0\n",
    "            on = False\n",
    "            \n",
    "    # Convert it into seconds\n",
    "    spacing_sec = [i/fs for i in spacing]\n",
    "    deviations = [(i-(spacing_truth_s*fs)) for i in spacing]\n",
    "    total_deviation = sum(deviations)\n",
    "    max_deviation = max(deviations)\n",
    "    min_deviation = min(deviations)\n",
    "    \n",
    "    return n_trials, spacing_sec, total_deviation, max_deviation, min_deviation, deviations\n",
    "\n",
    "n_trials, spacing_sec, avg_dev, max_dev, min_dev, deviations = spacing_sec(UDP_changes, \n",
    "                                                                 fs = 1200, \n",
    "                                                                 spacing_truth_s = 4)\n",
    "fs = 1200\n",
    "print(\"------------------------------\")\n",
    "print(\"Total trials: \", n_trials)\n",
    "print(\"------------------------------\")\n",
    "# print(\"Spacings: \", spacing_sec)\n",
    "# print(\"------------------------------\")\n",
    "print(\"Deviations: \", deviations)\n",
    "print(\"------------------------------\")\n",
    "print(\"Total deviation (sec): \", round(avg_dev/fs, 5), \"s\")\n",
    "print(\"Max deviation (sec): \", round(max_dev/fs, 5), \"s\")\n",
    "print(\"Min deviation (sec): \", round(min_dev/fs, 5), \"s\")\n",
    "\n",
    "print(\"------------------------------\")\n",
    "print(\"Total deviation (samples): \", round(avg_dev))\n",
    "print(\"Max deviation (samples): \", max_dev)\n",
    "print(\"Min deviation (samples): \", min_dev)\n",
    "print(\"------------------------------\")"
   ]
  },
  {
   "cell_type": "code",
   "execution_count": null,
   "id": "fdfc9a2f",
   "metadata": {},
   "outputs": [],
   "source": []
  }
 ],
 "metadata": {
  "kernelspec": {
   "display_name": "Python 3 (ipykernel)",
   "language": "python",
   "name": "python3"
  },
  "language_info": {
   "codemirror_mode": {
    "name": "ipython",
    "version": 3
   },
   "file_extension": ".py",
   "mimetype": "text/x-python",
   "name": "python",
   "nbconvert_exporter": "python",
   "pygments_lexer": "ipython3",
   "version": "3.8.5"
  }
 },
 "nbformat": 4,
 "nbformat_minor": 5
}
