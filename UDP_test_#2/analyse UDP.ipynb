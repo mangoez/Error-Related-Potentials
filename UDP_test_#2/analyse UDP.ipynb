{
 "cells": [
  {
   "cell_type": "code",
   "execution_count": 35,
   "metadata": {},
   "outputs": [],
   "source": [
    "import scipy.io\n",
    "import numpy as np\n",
    "from statistics import mean\n",
    "from statistics import variance\n",
    "from scipy.io import loadmat\n",
    "import pandas as pd\n",
    "import matplotlib.pyplot as plt"
   ]
  },
  {
   "cell_type": "code",
   "execution_count": 116,
   "metadata": {},
   "outputs": [
    {
     "name": "stdout",
     "output_type": "stream",
     "text": [
      "(470000,)\n"
     ]
    }
   ],
   "source": [
    "arduino_data = loadmat('arduino_data.mat')\n",
    "arduino_data = np.squeeze(arduino_data['data'])\n",
    "arduino_data = arduino_data[10000:480000]\n",
    "print(arduino_data.shape)"
   ]
  },
  {
   "cell_type": "code",
   "execution_count": 117,
   "metadata": {},
   "outputs": [],
   "source": [
    "# Process trigger data from matlab\n",
    "\n",
    "def mat2arr(addr, output_name):\n",
    "    mat = scipy.io.loadmat(addr + '.mat')\n",
    "    trigger_data = np.array(mat[output_name][0][0][1][0][0][0])\n",
    "    trigger_data = trigger_data\n",
    "    trigger_data = sum(trigger_data)[0]\n",
    "    return trigger_data\n",
    "\n",
    "\n",
    "UDP_changes = mat2arr('UDP_output', 'Trigger')"
   ]
  },
  {
   "cell_type": "code",
   "execution_count": 118,
   "metadata": {},
   "outputs": [
    {
     "name": "stdout",
     "output_type": "stream",
     "text": [
      "Data array size for triggers:  (470000,)\n",
      "First 10 elements:  [False False False False False False False False False False]\n",
      "Total trials detected:  97\n"
     ]
    }
   ],
   "source": [
    "UDP_changes = mat2arr('UDP_output', 'Trigger')\n",
    "UDP_changes = (UDP_changes[10000:480000] > 0)\n",
    "print(\"Data array size for triggers: \", UDP_changes.shape)\n",
    "print(\"First 10 elements: \", UDP_changes[0:10])\n",
    "print(\"Total trials detected: \", sum(UDP_changes))"
   ]
  },
  {
   "cell_type": "code",
   "execution_count": 119,
   "metadata": {},
   "outputs": [],
   "source": [
    "line_boo = arduino_data > 50000;\n",
    "length = arduino_data.shape[0]\n",
    "\n",
    "changes = np.zeros((1, length));\n",
    "trigger = 0;\n",
    "    \n",
    "for i in range(length):\n",
    "    if ((line_boo[i] == 1) and (trigger == 0)):\n",
    "        trigger = 1;\n",
    "        changes[:, i] = 1;\n",
    "    elif ((line_boo[i] == 1) and (trigger == 1)):\n",
    "        trigger = 1;\n",
    "    else:\n",
    "        trigger = 0;\n",
    "\n",
    "arduino_changes = (np.squeeze(changes) > 0.8)\n",
    "arduino_changes[0] = 0"
   ]
  },
  {
   "cell_type": "code",
   "execution_count": 120,
   "metadata": {},
   "outputs": [
    {
     "data": {
      "text/plain": [
       "97.0"
      ]
     },
     "execution_count": 120,
     "metadata": {},
     "output_type": "execute_result"
    }
   ],
   "source": [
    "np.sum(changes)"
   ]
  },
  {
   "cell_type": "code",
   "execution_count": 115,
   "metadata": {},
   "outputs": [
    {
     "data": {
      "text/plain": [
       "[<matplotlib.lines.Line2D at 0x11b9938b0>]"
      ]
     },
     "execution_count": 115,
     "metadata": {},
     "output_type": "execute_result"
    },
    {
     "data": {
      "image/png": "[encoded data removed]",
      "text/plain": [
       "<Figure size 1080x288 with 1 Axes>"
      ]
     },
     "metadata": {
      "needs_background": "light"
     },
     "output_type": "display_data"
    }
   ],
   "source": [
    "plt.figure(figsize=(15, 4))\n",
    "plt.plot(arduino_changes[400000:])"
   ]
  },
  {
   "cell_type": "code",
   "execution_count": 82,
   "metadata": {},
   "outputs": [
    {
     "name": "stdout",
     "output_type": "stream",
     "text": [
      "------------------------------\n",
      "Total trials:  99\n",
      "------------------------------\n",
      "Deviations:  [0, -1, -1, -1, 30, -1, 0, -1, 63, -1, 63, -1, -1, 29, -1, 58, -1, 4, -1, -1, 63, -1, 33, -1, -1, -1, -1, 41, -1, 63, -1, 50, 63, -1, 63, -1, 63, -1, 19, -1, -1, 51, -1, 63, -1, 0, -1, -1, -1]\n",
      "------------------------------\n",
      "Total deviation (sec):  0.65833 s\n",
      "Max deviation (sec):  0.0525 s\n",
      "Min deviation (sec):  -0.00083 s\n",
      "------------------------------\n",
      "Total deviation (samples):  790\n",
      "Max deviation (samples):  63\n",
      "Min deviation (samples):  -1\n",
      "------------------------------\n"
     ]
    }
   ],
   "source": [
    "# Find the times between trials\n",
    "def spacing_sec(data, fs, spacing_truth_s):\n",
    "    spacing = []\n",
    "    spacing_sec = []\n",
    "    deviations = []\n",
    "    cnt = 0\n",
    "    on = False\n",
    "    n_trials = 0\n",
    "\n",
    "    for i in data:\n",
    "        if (i): \n",
    "            n_trials += 1\n",
    "        if (i and not on):\n",
    "            on = True\n",
    "        elif (not i and on):\n",
    "            cnt += 1\n",
    "        elif (i and on):\n",
    "            spacing.append(cnt)\n",
    "            cnt = 0\n",
    "            on = False\n",
    "            \n",
    "    # Convert it into seconds\n",
    "    spacing_sec = [i/fs for i in spacing]\n",
    "    deviations = [(i-(spacing_truth_s*fs)) for i in spacing]\n",
    "    total_deviation = sum(deviations)\n",
    "    max_deviation = max(deviations)\n",
    "    min_deviation = min(deviations)\n",
    "    \n",
    "    return n_trials, spacing_sec, total_deviation, max_deviation, min_deviation, deviations\n",
    "\n",
    "n_trials, spacing_sec, avg_dev, max_dev, min_dev, deviations = spacing_sec(trigger_data, \n",
    "                                                                 fs = 1200, \n",
    "                                                                 spacing_truth_s = 4)\n",
    "fs = 1200\n",
    "print(\"------------------------------\")\n",
    "print(\"Total trials: \", n_trials)\n",
    "print(\"------------------------------\")\n",
    "# print(\"Spacings: \", spacing_sec)\n",
    "# print(\"------------------------------\")\n",
    "print(\"Deviations: \", deviations)\n",
    "print(\"------------------------------\")\n",
    "print(\"Total deviation (sec): \", round(avg_dev/fs, 5), \"s\")\n",
    "print(\"Max deviation (sec): \", round(max_dev/fs, 5), \"s\")\n",
    "print(\"Min deviation (sec): \", round(min_dev/fs, 5), \"s\")\n",
    "\n",
    "print(\"------------------------------\")\n",
    "print(\"Total deviation (samples): \", round(avg_dev))\n",
    "print(\"Max deviation (samples): \", max_dev)\n",
    "print(\"Min deviation (samples): \", min_dev)\n",
    "print(\"------------------------------\")\n",
    "\n",
    "# Try injecting random delays into the data you originally you have to test accuracy\n",
    "# Test this again and make sure it's synchronised, compare to python output \n",
    "# Record when first & last one is sent in python to check for python latency"
   ]
  },
  {
   "cell_type": "code",
   "execution_count": 128,
   "metadata": {},
   "outputs": [
    {
     "name": "stdout",
     "output_type": "stream",
     "text": [
      "[-47, -66, -16, -34, -52, -61, -15, -34, -51, -39, -22, -38, -50, -65, -24, -41, -55, -9, -27, -38, -58, -15, -27, -39, -43, -54, -36, -15, -32, -48, -63, -21, -40, -57, -13, -28, -44, -61, -16, -37, -56, -14, -30, -48, -40, -22, -41, -64, -11, -30, -46, -66, -19, -38, -53, -29, -22, -38, -56, -11, -27, -44, -56, -19, -54, -18, -32, -43, -60, -17, -32, -51, -61, -17, -34, -51, -27, -20, -39, -61, -16, -36, -53, -19, -26, -44, -59, -8, -19, -30, -49, -66, -15, -34, -45, -62, -17]\n"
     ]
    }
   ],
   "source": [
    "# Count the difference between the two types of detection\n",
    "UDP_indices = [i for i, x in enumerate(UDP_changes) if x]\n",
    "arduino_indices = [i for i, x in enumerate(arduino_changes) if x]\n",
    "\n",
    "difference = []\n",
    "zipped = zip(UDP_indices, arduino_indices)\n",
    "for list1_i, list2_i in zipped:\n",
    "    difference.append(list1_i-list2_i)\n",
    "\n",
    "print(difference)\n"
   ]
  },
  {
   "cell_type": "code",
   "execution_count": null,
   "metadata": {},
   "outputs": [],
   "source": []
  }
 ],
 "metadata": {
  "kernelspec": {
   "display_name": "Python 3",
   "language": "python",
   "name": "python3"
  },
  "language_info": {
   "codemirror_mode": {
    "name": "ipython",
    "version": 3
   },
   "file_extension": ".py",
   "mimetype": "text/x-python",
   "name": "python",
   "nbconvert_exporter": "python",
   "pygments_lexer": "ipython3",
   "version": "3.8.3"
  }
 },
 "nbformat": 4,
 "nbformat_minor": 4
}
